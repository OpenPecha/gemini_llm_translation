{
 "cells": [
  {
   "cell_type": "code",
   "execution_count": 3,
   "metadata": {},
   "outputs": [],
   "source": [
    "\n",
    "# Example usage\n",
    "source_text = \"\"\"ཇི་ལྟར་མཐོང་ཐོས་ཤེས་པ་དག །\n",
    "འདིར་ནི་དགག་པར་བྱ་མིན་ཏེ། །\n",
    "འདིར་ནི་སྡུག་བསྔལ་རྒྱུར་གྱུར་པ། །\n",
    "བདེན་པར་རྟོག་པ་བཟློག་བྱ་ཡིན། །\"\"\"\n",
    "\n",
    "commentaries = [\n",
    "    \"ཇི་ལྟར་མཐོང་ཐོས་དང་ཤེས་པ་འདི་དག་མ་བརྟག་ཉམ་དགའ་ཙམ་གྱི་དབང་དུ་བྱས་ཏེ་བརྗོད་ན་ནི།འདིར་ནི་དགག་པར་བྱ་བ་མིན་ཏེ་དེ་དག་དགག་མི་ནུས་ལ་དགག་ཀྱང་མི་དགོས་པའི་ཕྱིར། འོ་ན་ཅི་ཞིག་འགོག་ཅེ་ན། འདིར་ནི་སྔུག་བསྔལ་གྱི་རྒྱུར་གྱུར་པ་དངོས་པོ་ཀུན་ལ་དེར་ཞེན་གྱི་བདེན་པར་རྟོག་པ་བཟློག་བྱ་ཡིན་ནོ། །འདིར་མཐོང་བ་མངོན་སུམ་དང༌། ཐོས་པ་གང་ཟག་གཞན་ལས་དང༌། ཤེས་པ་རྗེས་དཔག་ཚད་མའི་སྒོ་ནས་བཞག་པའི་ཐ་སྙད་ལ་འགྲེལ་ བས་བཤད་དོ། །\",\n",
    "    \"འདི་ལྟར་ཞེས་བྱ་བ་ལ་སོགས་པ་སྨོས་ཏེ། མཐོང་བ་དང་ཐོས་པ་ལ་སོགས་པ་ཀུན་རྫོབ་ནི་འདིར་མི་འགོག་པའི་ཕྱིར་དང་། འོ་ན་འདིར་ཅི་ཞིག་འགོག་སྙམ་པ་ལ། འདིར་ནི་ཞེས་བྱ་བ་ལ་སོགས་པ་སྨོས་ཏེ། འདི་ནི་སྡུག་བསྔལ་ཐམས་ཅད་འབྱུང་བའི་རྒྱུ་དངོས་པོར་ཞེན་པ་དགག་པའི་ཕྱིར། ཡང་དག་པའི་རང་བཞིན་འགོག་གོ་སྙམ་དུ་བསམས་པའོ།\",\n",
    "    \"གལ་ཏེ་དེ་ལྟར་ན་ཡང་ཤེས་པ་རིག་པ་མེད་ན་དེ་ཇི་ལྟར་མཐོང་ངོ་འདི་ཐོས་སོ་འདི་ཤེས་སོ་ཞེས་བྱ་བའི་ཐ་སྙད་དུ་འགྱུར་རོ་ཞེ་ན། ཇི་ལྟར་ཞེས་བྱ་བ་ལ་སོགས་པ་གསུངས་སོ། ། མཐོང་བ་ལ་སོགས་པའི་ཐ་སྙད་དག་འཇིག་རྟེན་འདིར་དགག་པར་བྱ་བ་མ་ཡིན་པ་དེ་ཁོ་ནའོ། ། འོན་ཀྱང་འདིར་ནི་འཁོར་བའི་སྡུག་བསྔལ་མ་ལུས་པའི་རྒྱུར་འགྱུར་བའི་དངོས་པོར་ཀུན་རྟོག་པ་ནི་གདོན་ཆེན་པོས་བདེན་པ་ཉིད་དུ་སྒྲོ་བཏགས་པ་བྱས་པ་གང་ཡིན་པ་དེ་དགག་པར་བྱ་བ་ཡིན་པས་སྐྱོན་མེད་དོ། ། གཞན་ཡང་ཁྱོད་ཀྱིས་ཇི་སྐད་དུ། གལ་ཏེ་འཁྲུལ་པ་ཡང་མེད་ན། ། ཞེས་བྱ་བ་ལ་སོགས་པ་བརྗོད་པ་དེ་ལ་ཡང་བརྗོད་པར་བྱ་སྟེ།\"\n",
    "]\n"
   ]
  },
  {
   "cell_type": "code",
   "execution_count": 4,
   "metadata": {},
   "outputs": [],
   "source": [
    "import pandas as pd\n",
    "\n",
    "# Define the CSV headers\n",
    "csv_headers = [\n",
    "    \"Tibetan Source\", \"Sanskrit Source\", \"Sanskrit English\",\n",
    "    \"Commentary 1\", \"Commentary 2\", \"Commentary 3\", \"Commentary 4\", \"Commentary 5\"\n",
    "]\n",
    "\n",
    "# Define data (Fill available fields, leave others empty)\n",
    "data_dict = {\n",
    "    \"Tibetan Source\": source_text if source_text else \"\",  # Fill Tibetan source if available\n",
    "    \"Sanskrit Source\": \"\",  # Empty since no Sanskrit text is provided\n",
    "    \"Sanskrit English\": \"\",  # Empty since no Sanskrit-English translation is provided\n",
    "}\n"
   ]
  },
  {
   "cell_type": "code",
   "execution_count": 5,
   "metadata": {},
   "outputs": [],
   "source": [
    "\n",
    "# Add Commentaries (up to 5, fill available ones)\n",
    "for i in range(1, 6):\n",
    "    col_name = f\"Commentary {i}\"\n",
    "    data_dict[col_name] = commentaries[i-1] if i <= len(commentaries) else \"\"  # Fill with existing commentaries\n",
    "\n",
    "# Create a DataFrame\n",
    "df = pd.DataFrame([data_dict])\n"
   ]
  },
  {
   "cell_type": "code",
   "execution_count": 9,
   "metadata": {},
   "outputs": [],
   "source": [
    "df['content type'] = \"plain english\""
   ]
  },
  {
   "cell_type": "code",
   "execution_count": 10,
   "metadata": {},
   "outputs": [],
   "source": [
    "\n",
    "# Save as CSV file\n",
    "csv_filename = \"buddhist_text_translation.csv\"\n",
    "df.to_csv(csv_filename, index=False, encoding=\"utf-8\")\n"
   ]
  },
  {
   "cell_type": "code",
   "execution_count": null,
   "metadata": {},
   "outputs": [],
   "source": []
  }
 ],
 "metadata": {
  "kernelspec": {
   "display_name": ".venv",
   "language": "python",
   "name": "python3"
  },
  "language_info": {
   "codemirror_mode": {
    "name": "ipython",
    "version": 3
   },
   "file_extension": ".py",
   "mimetype": "text/x-python",
   "name": "python",
   "nbconvert_exporter": "python",
   "pygments_lexer": "ipython3",
   "version": "3.10.12"
  }
 },
 "nbformat": 4,
 "nbformat_minor": 2
}
